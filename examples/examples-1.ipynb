{
 "cells": [
  {
   "cell_type": "markdown",
   "metadata": {},
   "source": [
    "# Examples week 1\n",
    "## Day 1: basic math, variables and the `print` and `input` functions"
   ]
  },
  {
   "cell_type": "code",
   "execution_count": 1,
   "metadata": {},
   "outputs": [],
   "source": [
    "# Note that hash sign (#) at the beginning of this line, that indicates a comment\n",
    "# Every line that you start with a # will not be parsed by Python\n",
    "# Note also the empty line at the top of this cell. Those won't be parsed as well.\n",
    "\n",
    "# Feel free to change anything in this notebook to experiment!\n",
    "# And remember to always *comment* your code properly!"
   ]
  },
  {
   "cell_type": "markdown",
   "metadata": {},
   "source": [
    "### Basic math"
   ]
  },
  {
   "cell_type": "code",
   "execution_count": null,
   "metadata": {},
   "outputs": [],
   "source": [
    "# Python can be used as a calculator and has all the regular operations you expect\n",
    "\n",
    "# You have numbers\n",
    "3"
   ]
  },
  {
   "cell_type": "code",
   "execution_count": 3,
   "metadata": {},
   "outputs": [
    {
     "data": {
      "text/plain": [
       "2"
      ]
     },
     "execution_count": 3,
     "metadata": {},
     "output_type": "execute_result"
    }
   ],
   "source": [
    "# Math is what you would expect\n",
    "1 + 1"
   ]
  },
  {
   "cell_type": "code",
   "execution_count": 4,
   "metadata": {},
   "outputs": [
    {
     "data": {
      "text/plain": [
       "7"
      ]
     },
     "execution_count": 4,
     "metadata": {},
     "output_type": "execute_result"
    }
   ],
   "source": [
    "8 - 1"
   ]
  },
  {
   "cell_type": "code",
   "execution_count": 5,
   "metadata": {},
   "outputs": [
    {
     "data": {
      "text/plain": [
       "20"
      ]
     },
     "execution_count": 5,
     "metadata": {},
     "output_type": "execute_result"
    }
   ],
   "source": [
    "10 * 2"
   ]
  },
  {
   "cell_type": "code",
   "execution_count": 3,
   "metadata": {},
   "outputs": [
    {
     "data": {
      "text/plain": [
       "7.0"
      ]
     },
     "execution_count": 3,
     "metadata": {},
     "output_type": "execute_result"
    }
   ],
   "source": [
    "35 / 5"
   ]
  },
  {
   "cell_type": "code",
   "execution_count": 5,
   "metadata": {},
   "outputs": [
    {
     "data": {
      "text/plain": [
       "10.5"
      ]
     },
     "execution_count": 5,
     "metadata": {},
     "output_type": "execute_result"
    }
   ],
   "source": [
    "# Fractions are also possible (note the dot). A fraction (number with a dot) is called a float.\n",
    "21 / 2"
   ]
  },
  {
   "cell_type": "code",
   "execution_count": 7,
   "metadata": {},
   "outputs": [
    {
     "data": {
      "text/plain": [
       "8"
      ]
     },
     "execution_count": 7,
     "metadata": {},
     "output_type": "execute_result"
    }
   ],
   "source": [
    "# Enforce precedence with parentheses\n",
    "(1 + 3) * 2"
   ]
  },
  {
   "cell_type": "code",
   "execution_count": 8,
   "metadata": {},
   "outputs": [
    {
     "data": {
      "text/plain": [
       "True"
      ]
     },
     "execution_count": 8,
     "metadata": {},
     "output_type": "execute_result"
    }
   ],
   "source": [
    "# Boolean values are primitives (Note: the capitalization)\n",
    "True"
   ]
  },
  {
   "cell_type": "code",
   "execution_count": 9,
   "metadata": {},
   "outputs": [
    {
     "data": {
      "text/plain": [
       "False"
      ]
     },
     "execution_count": 9,
     "metadata": {},
     "output_type": "execute_result"
    }
   ],
   "source": [
    "False"
   ]
  },
  {
   "cell_type": "markdown",
   "metadata": {},
   "source": [
    "### Variables and the `print` statement"
   ]
  },
  {
   "cell_type": "code",
   "execution_count": 10,
   "metadata": {},
   "outputs": [
    {
     "name": "stdout",
     "output_type": "stream",
     "text": [
      "3\n"
     ]
    }
   ],
   "source": [
    "# Use the = (equals) operator to assign a value to a variable\n",
    "number = 3 # Comments can be next to a statement as well\n",
    "another_number = 5 # Note the underscore, stick to lower case alphanumeric characters and underscores for variables\n",
    "\n",
    "# You can use the print() statement to print any variable to the console\n",
    "print(number)"
   ]
  },
  {
   "cell_type": "code",
   "execution_count": 11,
   "metadata": {},
   "outputs": [
    {
     "name": "stdout",
     "output_type": "stream",
     "text": [
      "8\n"
     ]
    }
   ],
   "source": [
    "# You can do operations on variables as well\n",
    "yet_another_number = number + another_number\n",
    "print(yet_another_number)"
   ]
  },
  {
   "cell_type": "code",
   "execution_count": 12,
   "metadata": {},
   "outputs": [
    {
     "name": "stdout",
     "output_type": "stream",
     "text": [
      "4\n"
     ]
    }
   ],
   "source": [
    "# Or even change the value in the variable when it is assigned\n",
    "number = 3\n",
    "number = number + 1\n",
    "print(number) # 4"
   ]
  },
  {
   "cell_type": "code",
   "execution_count": 13,
   "metadata": {},
   "outputs": [
    {
     "name": "stdout",
     "output_type": "stream",
     "text": [
      "'Barrie' is the friend of Tinus\n"
     ]
    }
   ],
   "source": [
    "# To use text, you create strings by putting text between either \"double\" or 'single' quotes\n",
    "my_name = \"Barrie\"\n",
    "friends_name = 'Tinus'\n",
    "friends = \"'Barrie' is the friend of Tinus\" # Note how we use both single and double quotes to mingle the two\n",
    "print(friends)"
   ]
  },
  {
   "cell_type": "markdown",
   "metadata": {},
   "source": [
    "### The `input` function and type conversion"
   ]
  },
  {
   "cell_type": "code",
   "execution_count": 14,
   "metadata": {},
   "outputs": [
    {
     "name": "stdout",
     "output_type": "stream",
     "text": [
      "What's your age? a\n",
      "This is your age:\n",
      "a\n"
     ]
    }
   ],
   "source": [
    "# You can get input from the user by using the input() method\n",
    "age = input(\"What's your age? \") # Note the extra space at the end, remove it to see why i've added it there\n",
    "print(\"This is your age:\")\n",
    "print(age)"
   ]
  },
  {
   "cell_type": "code",
   "execution_count": 15,
   "metadata": {},
   "outputs": [
    {
     "name": "stdout",
     "output_type": "stream",
     "text": [
      "What's your age? 5\n"
     ]
    },
    {
     "ename": "TypeError",
     "evalue": "unsupported operand type(s) for -: 'int' and 'str'",
     "output_type": "error",
     "traceback": [
      "\u001b[0;31m---------------------------------------------------------------------------\u001b[0m",
      "\u001b[0;31mTypeError\u001b[0m                                 Traceback (most recent call last)",
      "\u001b[0;32m<ipython-input-15-7cbee76ed84d>\u001b[0m in \u001b[0;36m<module>\u001b[0;34m()\u001b[0m\n\u001b[1;32m      2\u001b[0m \u001b[0;31m# so what happens if we try to do calculations with this variable?\u001b[0m\u001b[0;34m\u001b[0m\u001b[0;34m\u001b[0m\u001b[0m\n\u001b[1;32m      3\u001b[0m \u001b[0mage\u001b[0m \u001b[0;34m=\u001b[0m \u001b[0minput\u001b[0m\u001b[0;34m(\u001b[0m\u001b[0;34m\"What's your age? \"\u001b[0m\u001b[0;34m)\u001b[0m\u001b[0;34m\u001b[0m\u001b[0m\n\u001b[0;32m----> 4\u001b[0;31m \u001b[0myear\u001b[0m \u001b[0;34m=\u001b[0m \u001b[0;36m2018\u001b[0m \u001b[0;34m-\u001b[0m \u001b[0mage\u001b[0m\u001b[0;34m\u001b[0m\u001b[0m\n\u001b[0m",
      "\u001b[0;31mTypeError\u001b[0m: unsupported operand type(s) for -: 'int' and 'str'"
     ]
    }
   ],
   "source": [
    "# The *type* of the input() statement is always a string, \n",
    "# so what happens if we try to do calculations with this variable?\n",
    "age = input(\"What's your age? \")\n",
    "year = 2018 - age"
   ]
  },
  {
   "cell_type": "code",
   "execution_count": null,
   "metadata": {},
   "outputs": [],
   "source": [
    "# You can't do calculations with a string, you need to convert it first\n",
    "age = input(\"What's your age? \")\n",
    "age_int = int(age)\n",
    "year = 2018 - age_int\n",
    "print(\"You were born in this year:\")\n",
    "print(year)"
   ]
  },
  {
   "cell_type": "code",
   "execution_count": null,
   "metadata": {},
   "outputs": [],
   "source": [
    "# You can convert between most types\n",
    "print(str(42)) # The string '42' instead of the number 42\n",
    "print(bool(1)) # 1 equals to True\n",
    "print(bool(0)) # 0 equals to False\n",
    "print(str(True)) # 'True'"
   ]
  },
  {
   "cell_type": "markdown",
   "metadata": {},
   "source": [
    "## Day 2: comparisons, the `if` statement and string concatenation and methods\n",
    "### Comparisons"
   ]
  },
  {
   "cell_type": "code",
   "execution_count": null,
   "metadata": {},
   "outputs": [],
   "source": [
    "# A lot of programming is based on checking if something is the same\n",
    "\n",
    "# You do that with the equality (==) operator\n",
    "name1 = \"Barrie\"\n",
    "name2 = \"Barrie\"\n",
    "name3 = \"Tinus\"\n",
    "print(\"Checking for equality\")\n",
    "print(name1 == name2) # The same, so 'True'\n",
    "print(name1 == name3) # Not the same, so 'False'\n",
    "\n",
    "# To check if something is *not* the same, you use !=\n",
    "print(\"Checking for inequality\")\n",
    "print(name1 != name2) # It's the same, so False\n",
    "print(name1 != name3) # Not the same, so True"
   ]
  },
  {
   "cell_type": "code",
   "execution_count": null,
   "metadata": {},
   "outputs": [],
   "source": [
    "# You can also check if something is greater than (>) or smaller than (<) something else\n",
    "age1 = 20\n",
    "age2 = 30\n",
    "\n",
    "print(age1 > age2) # False, age1 is smaller than age2\n",
    "print(age1 < age2) # True, age2 is greater than age1"
   ]
  },
  {
   "cell_type": "code",
   "execution_count": 5,
   "metadata": {},
   "outputs": [
    {
     "name": "stdout",
     "output_type": "stream",
     "text": [
      "True\n",
      "True\n",
      "False\n",
      "False\n",
      "False\n"
     ]
    }
   ],
   "source": [
    "# The 'in' operator can be used to check if a part of a string is in another string\n",
    "print(\"Holly\" in \"Hollywood\") # True\n",
    "print(\"Cage\" in \"Nicolas Cage\") # True\n",
    "print(\"Titanic\" in \"Leonardo DiCaprio\") # False\n",
    "\n",
    "# Note that 'in' is case sensitive\n",
    "print(\"cage\" in \"Nicolas Cage\") # False, because...\n",
    "print(\"cage\" == \"Cage\") # False!"
   ]
  },
  {
   "cell_type": "code",
   "execution_count": 11,
   "metadata": {},
   "outputs": [
    {
     "name": "stdout",
     "output_type": "stream",
     "text": [
      "False\n",
      "True\n",
      "True\n"
     ]
    }
   ],
   "source": [
    "# Sometimes you want to check for more than one condition, for that you\n",
    "# can use the and and or operators\n",
    "age = 18\n",
    "has_valid_id = False\n",
    "has_older_friend = True\n",
    "\n",
    "can_buy_alcohol = age > 18 and has_valid_id == True\n",
    "print(can_buy_alcohol) # Age should be 18 or higher *and* has_valid_id should be True\n",
    "\n",
    "can_buy_alcohol = has_valid_id == True or has_older_friend == True\n",
    "print(can_buy_alcohol) # has_valid_id should be True OR has_older_friend should be True\n",
    "\n",
    "# Expressions like these can be written shorter like this:\n",
    "can_buy_alcohol = has_valid_id or has_older_friend\n",
    "\n",
    "# In this case 'has_valid_id' is the same as 'has_valid_id == True'\n",
    "\n",
    "# To invert an expression like this, use the not operator\n",
    "has_invalid_id = not has_valid_id # has_valid_id == True, so 'not has_valid_id' == False\n",
    "print(has_invalid_id)"
   ]
  },
  {
   "cell_type": "markdown",
   "metadata": {},
   "source": [
    "### Control flow: the `if` statement"
   ]
  },
  {
   "cell_type": "code",
   "execution_count": null,
   "metadata": {},
   "outputs": [],
   "source": [
    "# You use operators like == and != in control flow statements, like the if statement\n",
    "age = input(\"What's your age? \")\n",
    "age_int = int(age) # Note that we need to convert from str to int!\n",
    "\n",
    "if age_int < 18:\n",
    "    print(\"You can't buy alcohol legally\")\n",
    "elif age_int == 18: # 'elif' stands for 'else if'\n",
    "    print(\"You're exactly 18, you can legally buy alcohol!\")\n",
    "else:\n",
    "    print(\"You're 19 or older, buy all the booze you want\")\n",
    "    \n",
    "# Note how we indend the print() statement here, this is required to indicate to Python\n",
    "# that the code is tied to the preceding if statement\n",
    "# Many other statements that Python uses also required the use of indentation"
   ]
  },
  {
   "cell_type": "markdown",
   "metadata": {},
   "source": [
    "### Concatenation"
   ]
  },
  {
   "cell_type": "code",
   "execution_count": null,
   "metadata": {},
   "outputs": [],
   "source": [
    "# To combine strings we use concatenation, which looks like addition\n",
    "name1 = \"Tinus\"\n",
    "name2 = \"Barrie\"\n",
    "together = name1 + \" loves \" + name2\n",
    "print(together)\n",
    "\n",
    "# Note that with concatenation we also need to convert from int to str if needed!\n",
    "age = 20\n",
    "print(\"I'm \" + age + \" years old\") # This will give an error!"
   ]
  },
  {
   "cell_type": "markdown",
   "metadata": {},
   "source": [
    "### String methods"
   ]
  },
  {
   "cell_type": "code",
   "execution_count": null,
   "metadata": {},
   "outputs": [],
   "source": [
    "# Strings also have a couple of methods we can use\n",
    "# You apply these with a dot (.) between the variable and execute them using the bracket () notation\n",
    "\n",
    "message = \"Tinus and Barrie are good friends\"\n",
    "\n",
    "# .upper() converts all to uppercase\n",
    "print(message.upper())\n",
    "\n",
    "# .lower() converts all to lowercase\n",
    "print(message.lower())\n",
    "\n",
    "# .isnumeric() checks if the string is numeric\n",
    "print(message.isnumeric())\n",
    "\n",
    "# To determine the length of a string, use the len() function\n",
    "print(len(message))\n",
    "\n",
    "# To replace something in a string, use .replace()\n",
    "print(message.replace(\"Barrie\", \"Hans\"))\n",
    "\n",
    "# To remove extra whitespace at the beginning and end of a string, use .strip()\n",
    "print(\"    Lots of whitespace    \".strip())"
   ]
  },
  {
   "cell_type": "markdown",
   "metadata": {},
   "source": [
    "### The `quit` function"
   ]
  },
  {
   "cell_type": "code",
   "execution_count": null,
   "metadata": {},
   "outputs": [],
   "source": [
    "# Last but not least, we have the quit() function, which quits the program\n",
    "# Useful to stop the program if something happens that you don't want\n",
    "# Note that quit() doesn't do this in Jupyter Notebooks. Instead it will quit the kernel.\n",
    "# This function is therefore most useful in terminal programs.\n",
    "age = input(\"What's your age? \")\n",
    "age_int = int(age)\n",
    "\n",
    "if age_int < 18:\n",
    "    print(\"You're not old enough!\")\n",
    "    quit()"
   ]
  }
 ],
 "metadata": {
  "kernelspec": {
   "display_name": "Python 3",
   "language": "python",
   "name": "python3"
  },
  "language_info": {
   "codemirror_mode": {
    "name": "ipython",
    "version": 3
   },
   "file_extension": ".py",
   "mimetype": "text/x-python",
   "name": "python",
   "nbconvert_exporter": "python",
   "pygments_lexer": "ipython3",
   "version": "3.6.5"
  }
 },
 "nbformat": 4,
 "nbformat_minor": 2
}
