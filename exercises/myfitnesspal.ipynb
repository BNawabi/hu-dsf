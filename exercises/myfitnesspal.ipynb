{
 "cells": [
  {
   "cell_type": "code",
   "execution_count": 11,
   "metadata": {},
   "outputs": [
    {
     "name": "stdout",
     "output_type": "stream",
     "text": [
      "You had 5.3 cookies\n"
     ]
    }
   ],
   "source": [
    "# Define the nutritional values here\n",
    "calories = 50\n",
    "fat = 2.3\n",
    "carbs = 8.3\n",
    "sugar = 4.7\n",
    "\n",
    "# Ask how many cookies the user had\n",
    "nr_of_cookies = input(\"How many Oreo cookies did you eat? \")\n",
    "\n",
    "# Feedback to the user\n",
    "print(\"You had \" + nr_of_cookies + \" cookies\")"
   ]
  },
  {
   "cell_type": "code",
   "execution_count": 12,
   "metadata": {},
   "outputs": [
    {
     "name": "stdout",
     "output_type": "stream",
     "text": [
      "Calories: 265.0\n",
      "Fat: 12.19 grams\n",
      "Carbs: 43.99 grams\n",
      "Sugar: 24.91 grams\n"
     ]
    }
   ],
   "source": [
    "nr_of_cookies = float(nr_of_cookies)\n",
    "user_calories = calories * nr_of_cookies\n",
    "user_fat = fat * nr_of_cookies\n",
    "user_carbs = carbs * nr_of_cookies\n",
    "user_sugar = sugar * nr_of_cookies\n",
    "\n",
    "print(\"Calories: \" + str(user_calories))\n",
    "print(\"Fat: \" + str(user_fat) + \" grams\")\n",
    "print(\"Carbs: \" + str(user_carbs) + \" grams\")\n",
    "print(\"Sugar: \" + str(user_sugar) + \" grams\")"
   ]
  },
  {
   "cell_type": "code",
   "execution_count": null,
   "metadata": {},
   "outputs": [],
   "source": []
  }
 ],
 "metadata": {
  "kernelspec": {
   "display_name": "Python 3",
   "language": "python",
   "name": "python3"
  },
  "language_info": {
   "codemirror_mode": {
    "name": "ipython",
    "version": 3
   },
   "file_extension": ".py",
   "mimetype": "text/x-python",
   "name": "python",
   "nbconvert_exporter": "python",
   "pygments_lexer": "ipython3",
   "version": "3.6.5"
  }
 },
 "nbformat": 4,
 "nbformat_minor": 2
}
